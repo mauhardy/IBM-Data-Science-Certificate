{
 "cells": [
  {
   "cell_type": "markdown",
   "id": "c3f4e127-775f-433b-9899-706f1620b7fe",
   "metadata": {},
   "source": [
    "# Data Science Tools"
   ]
  },
  {
   "cell_type": "markdown",
   "id": "66f87ec7-4d1e-4f69-8bdc-c0d6dcb59b73",
   "metadata": {},
   "source": [
    "In this notebook, Data Science Tools and Ecosystem are summarized."
   ]
  },
  {
   "cell_type": "markdown",
   "id": "1f05b33d-4caa-4923-b6ef-49f2c8e7a9eb",
   "metadata": {},
   "source": [
    "__Objectives:__\n",
    "- Popular Languages in Data Science\n",
    "- Commonly Used Libraries in Data Science\n",
    "- Data Science Tools\n",
    "- Examples of Evaluating Arithmetic Expressions in Python "
   ]
  },
  {
   "cell_type": "markdown",
   "id": "c29eab4a-b93c-4722-ba4b-b6f5e8c2f3bc",
   "metadata": {},
   "source": [
    "Some of the popular languages that Data Scientists use are:\n",
    "\n",
    "| List of Popular Languages |\n",
    "| ------- |\n",
    "| 1. Python |\n",
    "| 2. R |\n",
    "| 3. SQL |"
   ]
  },
  {
   "cell_type": "markdown",
   "id": "54920fb0-da78-4a3a-a7d4-898adddd0f0d",
   "metadata": {},
   "source": [
    "Some of the commonly used libraries used by Data Scientists include:\n",
    "\n",
    "| Commonly Used Libraries |\n",
    "| ------- |\n",
    "| 1. Tensorflow | \n",
    "| 2. Pandas |\n",
    "| 3. Matplotlib |\n",
    "| 4. Scikit-learn |\n",
    "| 5. SciPy |\n",
    "\n"
   ]
  },
  {
   "cell_type": "markdown",
   "id": "648371ba-9ff6-497b-ae41-7c5e3b10d19d",
   "metadata": {},
   "source": [
    "| Data Science Tools |\n",
    "| ------|\n",
    "| 1. Jupyter Notebooks |\n",
    "| 2. RStudio | \n",
    "| 3. Apache Zeppelin|\n",
    "| 4. VS Code (Visual Studio Code)| \n",
    "| 5. Spyder |\n",
    "| 6. PyCharm |"
   ]
  },
  {
   "cell_type": "markdown",
   "id": "ca9cb538-7885-46e5-8e34-73a44c136597",
   "metadata": {},
   "source": [
    "### Below are a few examples of evaluating arithmetic expressions in Python.\n"
   ]
  },
  {
   "cell_type": "code",
   "execution_count": 12,
   "id": "aa39d49d-b9e1-404b-8724-ea5c873f1096",
   "metadata": {},
   "outputs": [
    {
     "data": {
      "text/plain": [
       "17"
      ]
     },
     "execution_count": 12,
     "metadata": {},
     "output_type": "execute_result"
    }
   ],
   "source": [
    "# This a simple arithmetic expression to mutiply then add integers.\n",
    "(3*4)+5"
   ]
  },
  {
   "cell_type": "code",
   "execution_count": 25,
   "id": "a5483e28-b6d5-4bd1-a66f-49328ddf6288",
   "metadata": {},
   "outputs": [
    {
     "name": "stdout",
     "output_type": "stream",
     "text": [
      "Hours= 3\n",
      "Minutes= 20\n"
     ]
    }
   ],
   "source": [
    "# This will convert 200 minutes to hours by diving by 60.\n",
    "h=200//60\n",
    "m=200%60\n",
    "print(\"Hours=\",h)\n",
    "print(\"Minutes=\",m)"
   ]
  },
  {
   "cell_type": "markdown",
   "id": "baa60a78-7960-4b57-9fb6-9dfa28a89efa",
   "metadata": {},
   "source": [
    "## Author\n",
    "Maurice Hardy"
   ]
  },
  {
   "cell_type": "code",
   "execution_count": null,
   "id": "30c74998-bc54-4d49-b5cf-0eb17e49466a",
   "metadata": {},
   "outputs": [],
   "source": []
  }
 ],
 "metadata": {
  "kernelspec": {
   "display_name": "Python 3 (ipykernel)",
   "language": "python",
   "name": "python3"
  },
  "language_info": {
   "codemirror_mode": {
    "name": "ipython",
    "version": 3
   },
   "file_extension": ".py",
   "mimetype": "text/x-python",
   "name": "python",
   "nbconvert_exporter": "python",
   "pygments_lexer": "ipython3",
   "version": "3.12.5"
  }
 },
 "nbformat": 4,
 "nbformat_minor": 5
}
